{
 "cells": [
  {
   "cell_type": "code",
   "execution_count": 1,
   "id": "d5ed790c",
   "metadata": {},
   "outputs": [],
   "source": [
    "from typing import List\n",
    "from MRL import FixedFeatureLayer, Matryoshka_CE_Loss, MRL_Linear_Layer\n",
    "import torch\n",
    "from torch import nn, optim\n",
    "from torchvision import datasets, transforms\n",
    "import matplotlib.pyplot as plt"
   ]
  },
  {
   "cell_type": "code",
   "execution_count": 2,
   "id": "5a4fb13d",
   "metadata": {},
   "outputs": [],
   "source": [
    "tensor_transform = transforms.ToTensor()\n",
    "dataset = datasets.MNIST(\n",
    "    root=\"../data\", train=True, download=True, transform=tensor_transform\n",
    ")\n",
    "loader = torch.utils.data.DataLoader(dataset=dataset, batch_size=32, shuffle=True)\n"
   ]
  },
  {
   "cell_type": "code",
   "execution_count": null,
   "id": "303b0d09",
   "metadata": {},
   "outputs": [],
   "source": [
    "class autoencoder(nn.Module):\n",
    "    def __init__(self):\n",
    "        super(autoencoder, self).__init__()\n",
    "        self.encoder = nn.Sequential(\n",
    "            nn.Linear(28 * 28, 128),\n",
    "            nn.ReLU(),\n",
    "            nn.Linear(128, 64),\n",
    "            nn.ReLU(),\n",
    "            nn.Linear(64, 36),\n",
    "            nn.ReLU(),\n",
    "            nn.Linear(36, 18),\n",
    "            nn.ReLU(),\n",
    "            nn.Linear(18, 10),\n",
    "        )\n",
    "    \n",
    "        self.sub_decoder_1 = nn.Sequential(\n",
    "            nn.Linear(5, 10),\n",
    "            nn.ReLU(),\n",
    "            nn.Linear(10, 18),\n",
    "            nn.ReLU(),\n",
    "            nn.Linear(18, 36),\n",
    "            nn.ReLU(),\n",
    "            nn.Linear(36, 64),\n",
    "            nn.ReLU(),\n",
    "            nn.Linear(64, 128),\n",
    "            nn.ReLU(),\n",
    "            nn.Linear(128, 28 * 28),\n",
    "            nn.Sigmoid(),\n",
    "        )\n",
    "\n",
    "        self.sub_decoder_2 = nn.Sequential(\n",
    "            nn.Linear(5, 10),\n",
    "            nn.ReLU(),\n",
    "            nn.Linear(10, 18),\n",
    "            nn.ReLU(),\n",
    "            nn.Linear(18, 36),\n",
    "            nn.ReLU(),\n",
    "            nn.Linear(36, 64),\n",
    "            nn.ReLU(),\n",
    "            nn.Linear(64, 128),\n",
    "            nn.ReLU(),\n",
    "            nn.Linear(128, 28 * 28),\n",
    "            nn.Sigmoid(),\n",
    "        )\n",
    "\n",
    "    def forward(self, x):\n",
    "        encoded = self.encoder(x)\n",
    "        z1 = encoded[:, :5]\n",
    "        z2 = encoded[:, 5:]\n",
    "        decoded_1 = self.sub_decoder_1(z1)\n",
    "        decoded_2 = self.sub_decoder_2(z2)\n",
    "        decoded_comb = (decoded_1 + decoded_2) / 2\n",
    "        return decoded_comb, encoded"
   ]
  },
  {
   "cell_type": "code",
   "execution_count": 4,
   "id": "d9eee8bc",
   "metadata": {},
   "outputs": [
    {
     "name": "stdout",
     "output_type": "stream",
     "text": [
      "Cuda Avalible\n"
     ]
    },
    {
     "data": {
      "text/plain": [
       "autoencoder(\n",
       "  (encoder): Sequential(\n",
       "    (0): Linear(in_features=784, out_features=128, bias=True)\n",
       "    (1): ReLU()\n",
       "    (2): Linear(in_features=128, out_features=64, bias=True)\n",
       "    (3): ReLU()\n",
       "    (4): Linear(in_features=64, out_features=36, bias=True)\n",
       "    (5): ReLU()\n",
       "    (6): Linear(in_features=36, out_features=18, bias=True)\n",
       "    (7): ReLU()\n",
       "    (8): Linear(in_features=18, out_features=10, bias=True)\n",
       "  )\n",
       "  (sub_decoder_1): Sequential(\n",
       "    (0): Linear(in_features=5, out_features=10, bias=True)\n",
       "    (1): ReLU()\n",
       "    (2): Linear(in_features=10, out_features=18, bias=True)\n",
       "    (3): ReLU()\n",
       "    (4): Linear(in_features=18, out_features=36, bias=True)\n",
       "    (5): ReLU()\n",
       "    (6): Linear(in_features=36, out_features=64, bias=True)\n",
       "    (7): ReLU()\n",
       "    (8): Linear(in_features=64, out_features=128, bias=True)\n",
       "    (9): ReLU()\n",
       "    (10): Linear(in_features=128, out_features=784, bias=True)\n",
       "    (11): Sigmoid()\n",
       "  )\n",
       "  (sub_decoder_2): Sequential(\n",
       "    (0): Linear(in_features=5, out_features=10, bias=True)\n",
       "    (1): ReLU()\n",
       "    (2): Linear(in_features=10, out_features=18, bias=True)\n",
       "    (3): ReLU()\n",
       "    (4): Linear(in_features=18, out_features=36, bias=True)\n",
       "    (5): ReLU()\n",
       "    (6): Linear(in_features=36, out_features=64, bias=True)\n",
       "    (7): ReLU()\n",
       "    (8): Linear(in_features=64, out_features=128, bias=True)\n",
       "    (9): ReLU()\n",
       "    (10): Linear(in_features=128, out_features=784, bias=True)\n",
       "    (11): Sigmoid()\n",
       "  )\n",
       ")"
      ]
     },
     "execution_count": 4,
     "metadata": {},
     "output_type": "execute_result"
    }
   ],
   "source": [
    "model = autoencoder()\n",
    "loss_function = nn.MSELoss()\n",
    "optimizer = optim.Adam(model.parameters(), lr=1e-3, weight_decay=1e-8)\n",
    "epochs = 20\n",
    "outputs = []\n",
    "losses = []\n",
    "device = torch.device(\"cuda\" if torch.cuda.is_available() else \"cpu\")\n",
    "if torch.cuda.is_available():\n",
    "    print(\"Cuda Avalible\")\n",
    "model.to(device)"
   ]
  },
  {
   "cell_type": "code",
   "execution_count": null,
   "id": "d5f45434",
   "metadata": {},
   "outputs": [
    {
     "name": "stdout",
     "output_type": "stream",
     "text": [
      "Epoch 1/20, Loss: 0.050566\n",
      "Epoch 2/20, Loss: 0.040984\n",
      "Epoch 3/20, Loss: 0.034392\n",
      "Epoch 4/20, Loss: 0.029478\n",
      "Epoch 5/20, Loss: 0.028118\n",
      "Epoch 6/20, Loss: 0.023473\n",
      "Epoch 7/20, Loss: 0.025008\n",
      "Epoch 8/20, Loss: 0.025151\n",
      "Epoch 9/20, Loss: 0.022795\n",
      "Epoch 10/20, Loss: 0.023464\n",
      "Epoch 11/20, Loss: 0.022842\n",
      "Epoch 12/20, Loss: 0.030464\n",
      "Epoch 13/20, Loss: 0.022923\n",
      "Epoch 14/20, Loss: 0.023600\n",
      "Epoch 15/20, Loss: 0.021938\n",
      "Epoch 16/20, Loss: 0.017793\n",
      "Epoch 17/20, Loss: 0.025620\n",
      "Epoch 18/20, Loss: 0.021734\n",
      "Epoch 19/20, Loss: 0.024163\n",
      "Epoch 20/20, Loss: 0.021743\n"
     ]
    }
   ],
   "source": [
    "for epoch in range(epochs):\n",
    "    for images, _ in loader:\n",
    "        images = images.view(-1, 28 * 28).to(device)\n",
    "\n",
    "        reconstructed, represent = model(images)\n",
    "        loss = loss_function(reconstructed, images)\n",
    "\n",
    "        optimizer.zero_grad()\n",
    "        loss.backward()\n",
    "        optimizer.step()\n",
    "\n",
    "        losses.append(loss.item())\n",
    "    outputs.append((epoch, images, reconstructed))\n",
    "    print(f\"Epoch {epoch + 1}/{epochs}, Loss: {loss.item():.6f}\")"
   ]
  },
  {
   "cell_type": "code",
   "execution_count": 6,
   "id": "24e963ac",
   "metadata": {},
   "outputs": [
    {
     "data": {
      "text/plain": [
       "<matplotlib.legend.Legend at 0x7dc084113230>"
      ]
     },
     "execution_count": 6,
     "metadata": {},
     "output_type": "execute_result"
    },
    {
     "data": {
      "image/png": "[encoded data removed]",
      "text/plain": [
       "<Figure size 800x500 with 1 Axes>"
      ]
     },
     "metadata": {},
     "output_type": "display_data"
    }
   ],
   "source": [
    "plt.style.use(\"fivethirtyeight\")\n",
    "plt.figure(figsize=(8, 5))\n",
    "plt.plot(losses, label=\"Loss\")\n",
    "plt.xlabel(\"Iterations\")\n",
    "plt.ylabel(\"Loss\")\n",
    "plt.legend()"
   ]
  },
  {
   "cell_type": "code",
   "execution_count": 8,
   "id": "cef05205",
   "metadata": {},
   "outputs": [
    {
     "name": "stdout",
     "output_type": "stream",
     "text": [
      "Saved\n"
     ]
    }
   ],
   "source": [
    "torch.save(model.state_dict(), \"../output/autoencoder_sub_weights.pth\")\n",
    "torch.save(model, \"../output/autoencoder_sub_weights.pth\")\n",
    "print(\"Saved\")"
   ]
  }
 ],
 "metadata": {
  "kernelspec": {
   "display_name": ".venv",
   "language": "python",
   "name": "python3"
  },
  "language_info": {
   "codemirror_mode": {
    "name": "ipython",
    "version": 3
   },
   "file_extension": ".py",
   "mimetype": "text/x-python",
   "name": "python",
   "nbconvert_exporter": "python",
   "pygments_lexer": "ipython3",
   "version": "3.13.3"
  }
 },
 "nbformat": 4,
 "nbformat_minor": 5
}
