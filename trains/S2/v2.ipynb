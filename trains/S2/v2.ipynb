{
 "cells": [
  {
   "cell_type": "code",
   "execution_count": 2,
   "id": "15deb56b",
   "metadata": {},
   "outputs": [],
   "source": [
    "import torch\n",
    "from torch import nn, optim\n",
    "import torch.nn.functional as F\n",
    "from torchvision import datasets, transforms\n",
    "import matplotlib.pyplot as plt\n",
    "\n",
    "import numpy as np\n",
    "from mpl_toolkits.axes_grid1 import ImageGrid\n",
    "from torchvision.utils import save_image, make_grid"
   ]
  },
  {
   "cell_type": "code",
   "execution_count": 3,
   "id": "e7b0df2a",
   "metadata": {},
   "outputs": [],
   "source": [
    "tensor_transform = transforms.ToTensor()\n",
    "dataset = datasets.CIFAR10(\n",
    "    root=\"../../data\", train=True, download=True, transform=tensor_transform\n",
    ")\n",
    "loader = torch.utils.data.DataLoader(dataset=dataset, batch_size=32, shuffle=True)"
   ]
  },
  {
   "cell_type": "code",
   "execution_count": null,
   "id": "fd0f17b2",
   "metadata": {},
   "outputs": [],
   "source": [
    "def vae_loss(recon, x, mu, log_var):\n",
    "    recon_loss = F.binary_cross_entropy(recon, x, reduction='sum')\n",
    "    D_kl = (-0.5) * torch.sum(1 + log_var - mu.pow(2) - log_var.exp())\n",
    "    return recon_loss + D_kl, recon_loss, D_kl"
   ]
  },
  {
   "cell_type": "code",
   "execution_count": null,
   "id": "2c8de58a",
   "metadata": {},
   "outputs": [],
   "source": [
    "class vae(nn.Module):\n",
    "    def __init__(self):\n",
    "        super(vae, self).__init__()\n",
    "\n",
    "        self.encoder = nn.Sequential(\n",
    "            nn.Conv2d(3, 32, kernel_size=3, stride=2, padding=1),\n",
    "            nn.ReLU(),\n",
    "            nn.Conv2d(32, 64, kernel_size=3, stride=2, padding=1),\n",
    "            nn.ReLU(),\n",
    "            nn.Conv2d(64, 128, kernel_size=3, stride=2, padding=1),\n",
    "            nn.ReLU(),\n",
    "        )\n",
    "\n",
    "        self.mu_encoder = nn.Conv2d()\n",
    "        self.var_encoder = nn.Conv2d()\n",
    "\n",
    "        self.decoder = nn.Sequential(\n",
    "            nn.ConvTranspose2d(128, 64, kernel_size=3, stride=2, padding=1, output_padding=1),\n",
    "            nn.ReLU(),\n",
    "            nn.ConvTranspose2d(64, 32, kernel_size=3, stride=2, padding=1, output_padding=1),\n",
    "            nn.ReLU(),\n",
    "            nn.ConvTranspose2d(32, 3, kernel_size=3, stride=2, padding=1, output_padding=1),\n",
    "            nn.Sigmoid(),\n",
    "        )\n",
    "\n",
    "    def encode(self, x):\n",
    "        x = self.encoder(x)\n",
    "        mean, var = self.mu_encoder(x), self.var_encoder(x)\n",
    "        return mean, var\n",
    "\n",
    "    def decode(self, z):\n",
    "        return self.decoder(z)\n",
    "\n",
    "    def reparameter(self, mu, var):\n",
    "        epsilon = torch.randn_like(var)\n",
    "        latent = mu + var * epsilon\n",
    "        return latent\n",
    "\n",
    "    def forward(self, x):\n",
    "        mean, var = self.encode(x)\n",
    "        std = torch.exp(0.5 * var)\n",
    "        z = self.reparameter(mean, std)\n",
    "        x_hat = self.decode(z)\n",
    "        return x, x_hat, z, mean, var"
   ]
  }
 ],
 "metadata": {
  "kernelspec": {
   "display_name": ".venv",
   "language": "python",
   "name": "python3"
  },
  "language_info": {
   "codemirror_mode": {
    "name": "ipython",
    "version": 3
   },
   "file_extension": ".py",
   "mimetype": "text/x-python",
   "name": "python",
   "nbconvert_exporter": "python",
   "pygments_lexer": "ipython3",
   "version": "3.13.5"
  }
 },
 "nbformat": 4,
 "nbformat_minor": 5
}
