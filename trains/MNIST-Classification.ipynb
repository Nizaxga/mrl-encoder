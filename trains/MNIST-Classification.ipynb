{
 "cells": [
  {
   "cell_type": "code",
   "execution_count": 1,
   "id": "d5ed790c",
   "metadata": {},
   "outputs": [],
   "source": [
    "from typing import List\n",
    "import torch\n",
    "from torch import nn, optim\n",
    "from MRL import Matryoshka_CE_Loss, MRL_Linear_Layer\n",
    "from torchvision import datasets, transforms\n",
    "import matplotlib.pyplot as plt"
   ]
  },
  {
   "cell_type": "code",
   "execution_count": 2,
   "id": "5a4fb13d",
   "metadata": {},
   "outputs": [],
   "source": [
    "tensor_transform = transforms.ToTensor()\n",
    "dataset = datasets.MNIST(\n",
    "    root=\"../data\", train=True, download=True, transform=tensor_transform\n",
    ")\n",
    "loader = torch.utils.data.DataLoader(dataset=dataset, batch_size=32, shuffle=True)\n"
   ]
  },
  {
   "cell_type": "code",
   "execution_count": 3,
   "id": "303b0d09",
   "metadata": {},
   "outputs": [],
   "source": [
    "class autoencoder(nn.Module):\n",
    "    def __init__(self):\n",
    "        super(autoencoder, self).__init__()\n",
    "        self.encoder = nn.Sequential(\n",
    "            nn.Linear(28 * 28, 128),\n",
    "            nn.ReLU(),\n",
    "            nn.Linear(128, 64),\n",
    "            nn.ReLU(),\n",
    "            nn.Linear(64, 36),\n",
    "            nn.ReLU(),\n",
    "            nn.Linear(36, 18),\n",
    "            nn.ReLU(),\n",
    "        )\n",
    "    \n",
    "        self.decoder = nn.Sequential(\n",
    "            nn.Linear(18, 36),\n",
    "            nn.ReLU(),\n",
    "            nn.Linear(36, 64),\n",
    "            nn.ReLU(),\n",
    "            nn.Linear(64, 128),\n",
    "            nn.ReLU(),\n",
    "            nn.Linear(128, 28 * 28),\n",
    "            nn.Sigmoid(),\n",
    "        )\n",
    "\n",
    "        self.encoder_mrl = MRL_Linear_Layer([5, 10], 10)\n",
    "\n",
    "        self.decoder_mrl = nn.Linear(10, 18)\n",
    "\n",
    "\n",
    "    def forward(self, x):\n",
    "        encoded = self.encoder(x)\n",
    "        mrl_encoded = self.encoder_mrl(encoded)\n",
    "        first = mrl_encoded[-1]\n",
    "        second = mrl_encoded[0]\n",
    "        decoded = self.decoder_mrl(first)\n",
    "        decoded = self.decoder(decoded)\n",
    "        return decoded, first, second, mrl_encoded"
   ]
  },
  {
   "cell_type": "code",
   "execution_count": 4,
   "id": "d9eee8bc",
   "metadata": {},
   "outputs": [
    {
     "name": "stdout",
     "output_type": "stream",
     "text": [
      "Cuda Avalible\n"
     ]
    },
    {
     "data": {
      "text/plain": [
       "autoencoder(\n",
       "  (encoder): Sequential(\n",
       "    (0): Linear(in_features=784, out_features=128, bias=True)\n",
       "    (1): ReLU()\n",
       "    (2): Linear(in_features=128, out_features=64, bias=True)\n",
       "    (3): ReLU()\n",
       "    (4): Linear(in_features=64, out_features=36, bias=True)\n",
       "    (5): ReLU()\n",
       "    (6): Linear(in_features=36, out_features=18, bias=True)\n",
       "    (7): ReLU()\n",
       "  )\n",
       "  (decoder): Sequential(\n",
       "    (0): Linear(in_features=18, out_features=36, bias=True)\n",
       "    (1): ReLU()\n",
       "    (2): Linear(in_features=36, out_features=64, bias=True)\n",
       "    (3): ReLU()\n",
       "    (4): Linear(in_features=64, out_features=128, bias=True)\n",
       "    (5): ReLU()\n",
       "    (6): Linear(in_features=128, out_features=784, bias=True)\n",
       "    (7): Sigmoid()\n",
       "  )\n",
       "  (encoder_mrl): MRL_Linear_Layer(\n",
       "    (nesting_classifier_0): Linear(in_features=5, out_features=10, bias=True)\n",
       "    (nesting_classifier_1): Linear(in_features=10, out_features=10, bias=True)\n",
       "  )\n",
       "  (decoder_mrl): Linear(in_features=10, out_features=18, bias=True)\n",
       ")"
      ]
     },
     "execution_count": 4,
     "metadata": {},
     "output_type": "execute_result"
    }
   ],
   "source": [
    "model = autoencoder()\n",
    "loss_function = nn.BCELoss()\n",
    "clf_loss_function = Matryoshka_CE_Loss()\n",
    "optimizer = optim.Adam(model.parameters(), lr=1e-3, weight_decay=1e-8)\n",
    "epochs = 20\n",
    "outputs = []\n",
    "losses = []\n",
    "device = torch.device(\"cuda\" if torch.cuda.is_available() else \"cpu\")\n",
    "if torch.cuda.is_available():\n",
    "    print(\"Cuda Avalible\")\n",
    "model.to(device)"
   ]
  },
  {
   "cell_type": "code",
   "execution_count": 8,
   "id": "d5f45434",
   "metadata": {},
   "outputs": [
    {
     "name": "stdout",
     "output_type": "stream",
     "text": [
      "Epoch 1/20, Loss: 0.001362\n",
      "Epoch 2/20, Loss: 0.000438\n",
      "Epoch 3/20, Loss: 0.000698\n",
      "Epoch 4/20, Loss: 0.000592\n",
      "Epoch 5/20, Loss: 0.006267\n",
      "Epoch 6/20, Loss: 0.008338\n",
      "Epoch 7/20, Loss: 0.004117\n",
      "Epoch 8/20, Loss: 0.000144\n",
      "Epoch 9/20, Loss: 0.000131\n",
      "Epoch 10/20, Loss: 0.000387\n",
      "Epoch 11/20, Loss: 0.007437\n",
      "Epoch 12/20, Loss: 0.000188\n",
      "Epoch 13/20, Loss: 0.013176\n",
      "Epoch 14/20, Loss: 0.001239\n",
      "Epoch 15/20, Loss: 0.000577\n",
      "Epoch 16/20, Loss: 0.000101\n",
      "Epoch 17/20, Loss: 0.000932\n",
      "Epoch 18/20, Loss: 0.000077\n",
      "Epoch 19/20, Loss: 0.007592\n",
      "Epoch 20/20, Loss: 0.000260\n"
     ]
    }
   ],
   "source": [
    "for epoch in range(epochs):\n",
    "    for images, labels in loader:\n",
    "        images = images.view(-1, 28 * 28).to(device)\n",
    "        labels = labels.to(device)\n",
    "\n",
    "        reconstructed, first, second, mrl_logits = model(images)\n",
    "        clf_loss = clf_loss_function(mrl_logits, labels)\n",
    "\n",
    "        optimizer.zero_grad()\n",
    "        clf_loss.backward()\n",
    "        optimizer.step()\n",
    "\n",
    "        losses.append(clf_loss.item())\n",
    "    outputs.append((epoch, images, mrl_logits, labels))\n",
    "    print(f\"Epoch {epoch + 1}/{epochs}, Loss: {clf_loss.item():.6f}\")"
   ]
  },
  {
   "cell_type": "code",
   "execution_count": 9,
   "id": "24e963ac",
   "metadata": {},
   "outputs": [
    {
     "data": {
      "text/plain": [
       "<matplotlib.legend.Legend at 0x79a82c231450>"
      ]
     },
     "execution_count": 9,
     "metadata": {},
     "output_type": "execute_result"
    },
    {
     "data": {
      "image/png": "[encoded data removed]",
      "text/plain": [
       "<Figure size 800x500 with 1 Axes>"
      ]
     },
     "metadata": {},
     "output_type": "display_data"
    }
   ],
   "source": [
    "plt.style.use(\"fivethirtyeight\")\n",
    "plt.figure(figsize=(8, 5))\n",
    "plt.plot(losses, label=\"Loss\")\n",
    "plt.xlabel(\"Iterations\")\n",
    "plt.ylabel(\"Loss\")\n",
    "plt.legend()"
   ]
  },
  {
   "cell_type": "code",
   "execution_count": 31,
   "id": "86afe20e",
   "metadata": {},
   "outputs": [
    {
     "data": {
      "image/png": "[encoded data removed]",
      "text/plain": [
       "<Figure size 1080x200 with 6 Axes>"
      ]
     },
     "metadata": {},
     "output_type": "display_data"
    }
   ],
   "source": [
    "from random import randint\n",
    "idx = randint(0, len(outputs) - 1)\n",
    "output_tuple = outputs[idx]\n",
    "if len(output_tuple) == 4:\n",
    "    epoch_idx, original_imgs, mrl_logits, labels = output_tuple\n",
    "elif len(output_tuple) == 3:\n",
    "    epoch_idx, original_imgs, mrl_logits = output_tuple\n",
    "    labels = None\n",
    "else:\n",
    "    raise ValueError(f\"Unexpected tuple length in outputs: {len(output_tuple)}\")\n",
    "n = min(6, original_imgs.size(0))  \n",
    "\n",
    "original_imgs = original_imgs[:n].detach().cpu().view(-1, 28, 28)\n",
    "\n",
    "\n",
    "preds = [torch.argmax(logits[:n], dim=1).cpu() for logits in mrl_logits]\n",
    "\n",
    "\n",
    "plt.figure(figsize=(1.8 * n, 2))\n",
    "\n",
    "for i in range(n):\n",
    "    ax = plt.subplot(1, n, i + 1)\n",
    "    ax.imshow(original_imgs[i], cmap='gray')\n",
    "    ax.axis('off')\n",
    "\n",
    "    \n",
    "    pred_text = \"\\n\".join([f\"L{i+1}: {preds[i][j].item()}\" for i, j in enumerate([i]*len(preds))])\n",
    "    ax.set_title(pred_text, fontsize=8)\n",
    "\n",
    "plt.tight_layout()\n",
    "plt.show()\n"
   ]
  },
  {
   "cell_type": "code",
   "execution_count": 12,
   "id": "cef05205",
   "metadata": {},
   "outputs": [
    {
     "name": "stdout",
     "output_type": "stream",
     "text": [
      "Saved\n"
     ]
    }
   ],
   "source": [
    "torch.save(model.state_dict(), \"../output/autoencoder_sub_weights.pth\")\n",
    "torch.save(model, \"../output/autoencoder_sub_weights.pth\")\n",
    "print(\"Saved\")"
   ]
  }
 ],
 "metadata": {
  "kernelspec": {
   "display_name": ".venv",
   "language": "python",
   "name": "python3"
  },
  "language_info": {
   "codemirror_mode": {
    "name": "ipython",
    "version": 3
   },
   "file_extension": ".py",
   "mimetype": "text/x-python",
   "name": "python",
   "nbconvert_exporter": "python",
   "pygments_lexer": "ipython3",
   "version": "3.13.3"
  }
 },
 "nbformat": 4,
 "nbformat_minor": 5
}
