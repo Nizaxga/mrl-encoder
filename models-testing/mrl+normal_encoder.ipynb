{
 "cells": [
  {
   "cell_type": "code",
   "execution_count": 1,
   "id": "5dcb59e4",
   "metadata": {},
   "outputs": [],
   "source": [
    "from typing import List\n",
    "from MRL import FixedFeatureLayer, Matryoshka_CE_Loss, MRL_Linear_Layer\n",
    "import torch\n",
    "from torch import nn, optim\n",
    "from torchvision import datasets, transforms\n",
    "import matplotlib.pyplot as plt"
   ]
  },
  {
   "cell_type": "code",
   "execution_count": 2,
   "id": "e779d4db",
   "metadata": {},
   "outputs": [],
   "source": [
    "device = torch.device(\"cuda\" if torch.cuda.is_available() else \"cpu\")"
   ]
  },
  {
   "cell_type": "markdown",
   "id": "2590cb64",
   "metadata": {},
   "source": [
    "# Normal Encoder"
   ]
  },
  {
   "cell_type": "code",
   "execution_count": 3,
   "id": "656123d7",
   "metadata": {},
   "outputs": [],
   "source": [
    "class autoencoder(nn.Module):\n",
    "    def __init__(self):\n",
    "        super(autoencoder, self).__init__()\n",
    "        self.encoder = nn.Sequential(\n",
    "            nn.Linear(28 * 28, 128),\n",
    "            nn.ReLU(),\n",
    "            nn.Linear(128, 64),\n",
    "            nn.ReLU(),\n",
    "            nn.Linear(64, 36),\n",
    "            nn.ReLU(),\n",
    "            nn.Linear(36, 18),\n",
    "            nn.ReLU(),\n",
    "            nn.Linear(18, 9),\n",
    "        )\n",
    "        self.decoder = nn.Sequential(\n",
    "            nn.Linear(9, 18),\n",
    "            nn.ReLU(),\n",
    "            nn.Linear(18, 36),\n",
    "            nn.ReLU(),\n",
    "            nn.Linear(36, 64),\n",
    "            nn.ReLU(),\n",
    "            nn.Linear(64, 128),\n",
    "            nn.ReLU(),\n",
    "            nn.Linear(128, 28 * 28),\n",
    "            nn.Sigmoid(),\n",
    "        )\n",
    "\n",
    "    def forward(self, x):\n",
    "        encoded = self.encoder(x)\n",
    "        decoded = self.decoder(encoded)\n",
    "        return decoded"
   ]
  },
  {
   "cell_type": "code",
   "execution_count": 4,
   "id": "11b2755c",
   "metadata": {},
   "outputs": [
    {
     "data": {
      "text/plain": [
       "autoencoder(\n",
       "  (encoder): Sequential(\n",
       "    (0): Linear(in_features=784, out_features=128, bias=True)\n",
       "    (1): ReLU()\n",
       "    (2): Linear(in_features=128, out_features=64, bias=True)\n",
       "    (3): ReLU()\n",
       "    (4): Linear(in_features=64, out_features=36, bias=True)\n",
       "    (5): ReLU()\n",
       "    (6): Linear(in_features=36, out_features=18, bias=True)\n",
       "    (7): ReLU()\n",
       "    (8): Linear(in_features=18, out_features=9, bias=True)\n",
       "  )\n",
       "  (decoder): Sequential(\n",
       "    (0): Linear(in_features=9, out_features=18, bias=True)\n",
       "    (1): ReLU()\n",
       "    (2): Linear(in_features=18, out_features=36, bias=True)\n",
       "    (3): ReLU()\n",
       "    (4): Linear(in_features=36, out_features=64, bias=True)\n",
       "    (5): ReLU()\n",
       "    (6): Linear(in_features=64, out_features=128, bias=True)\n",
       "    (7): ReLU()\n",
       "    (8): Linear(in_features=128, out_features=784, bias=True)\n",
       "    (9): Sigmoid()\n",
       "  )\n",
       ")"
      ]
     },
     "execution_count": 4,
     "metadata": {},
     "output_type": "execute_result"
    }
   ],
   "source": [
    "model = autoencoder()\n",
    "model.load_state_dict(torch.load(\"output/autoencoder_weights.pth\"))\n",
    "model.eval()\n",
    "model.to(device)"
   ]
  },
  {
   "cell_type": "code",
   "execution_count": 5,
   "id": "3f5f3962",
   "metadata": {},
   "outputs": [
    {
     "data": {
      "image/png": "[encoded data removed]",
      "text/plain": [
       "<Figure size 1200x300 with 16 Axes>"
      ]
     },
     "metadata": {},
     "output_type": "display_data"
    }
   ],
   "source": [
    "test_dataset = datasets.MNIST(root=\"./data\", train=False, transform=transforms.ToTensor())\n",
    "test_loader = torch.utils.data.DataLoader(test_dataset, batch_size=8, shuffle=True)\n",
    "\n",
    "images, _ = next(iter(test_loader))\n",
    "images = images.view(-1, 28 * 28).to(device)\n",
    "\n",
    "with torch.no_grad():\n",
    "    recon = model(images)\n",
    "\n",
    "images = images.view(-1, 28, 28).cpu()\n",
    "recon = recon.view(-1, 28, 28).cpu()\n",
    "\n",
    "fig, axes = plt.subplots(2, 8, figsize=(12, 3))\n",
    "for i in range(8):\n",
    "    axes[0, i].imshow(images[i], cmap=\"gray\")\n",
    "    axes[0, i].axis(\"off\")\n",
    "    axes[1, i].imshow(recon[i], cmap=\"gray\")\n",
    "    axes[1, i].axis(\"off\")\n",
    "axes[0, 0].set_title(\"Original\")\n",
    "axes[1, 0].set_title(\"Reconstructed\")\n",
    "plt.tight_layout()\n",
    "plt.savefig(\"output/reconstruction_output.png\")"
   ]
  },
  {
   "cell_type": "markdown",
   "id": "0f1652f7",
   "metadata": {},
   "source": [
    "# MRL Encoder"
   ]
  },
  {
   "cell_type": "code",
   "execution_count": 6,
   "id": "504d332b",
   "metadata": {},
   "outputs": [],
   "source": [
    "class MRL_Autoencoder(nn.Module):\n",
    "    def __init__(self, nesting_list: List[int], num_classes: int, efficient=False):\n",
    "        super(MRL_Autoencoder, self).__init__()\n",
    "\n",
    "        self.encoder = nn.Sequential(\n",
    "            nn.Linear(28 * 28, 128),\n",
    "            nn.ReLU(),\n",
    "            nn.Linear(128, 64),\n",
    "            nn.ReLU(),\n",
    "            nn.Linear(64, nesting_list[-1]),\n",
    "        )\n",
    "\n",
    "        self.decoder = nn.Sequential(\n",
    "            nn.Linear(nesting_list[-1], 64),\n",
    "            nn.ReLU(),\n",
    "            nn.Linear(64, 128),\n",
    "            nn.ReLU(),\n",
    "            nn.Linear(128, 28 * 28),\n",
    "            nn.Sigmoid(),\n",
    "        )\n",
    "\n",
    "        self.classifier = MRL_Linear_Layer(\n",
    "            nesting_list=nesting_list,\n",
    "            num_classes=num_classes,\n",
    "            efficient=efficient,\n",
    "        )\n",
    "\n",
    "    def forward(self, x):\n",
    "        z = self.encoder(x)                \n",
    "        x_recon = self.decoder(z)         \n",
    "        logits = self.classifier(z)      \n",
    "        return x_recon, logits"
   ]
  },
  {
   "cell_type": "code",
   "execution_count": 7,
   "id": "0a69ed42",
   "metadata": {},
   "outputs": [
    {
     "data": {
      "text/plain": [
       "MRL_Autoencoder(\n",
       "  (encoder): Sequential(\n",
       "    (0): Linear(in_features=784, out_features=128, bias=True)\n",
       "    (1): ReLU()\n",
       "    (2): Linear(in_features=128, out_features=64, bias=True)\n",
       "    (3): ReLU()\n",
       "    (4): Linear(in_features=64, out_features=36, bias=True)\n",
       "  )\n",
       "  (decoder): Sequential(\n",
       "    (0): Linear(in_features=36, out_features=64, bias=True)\n",
       "    (1): ReLU()\n",
       "    (2): Linear(in_features=64, out_features=128, bias=True)\n",
       "    (3): ReLU()\n",
       "    (4): Linear(in_features=128, out_features=784, bias=True)\n",
       "    (5): Sigmoid()\n",
       "  )\n",
       "  (classifier): MRL_Linear_Layer(\n",
       "    (nesting_classifier_0): Linear(in_features=9, out_features=10, bias=True)\n",
       "    (nesting_classifier_1): Linear(in_features=18, out_features=10, bias=True)\n",
       "    (nesting_classifier_2): Linear(in_features=36, out_features=10, bias=True)\n",
       "  )\n",
       ")"
      ]
     },
     "execution_count": 7,
     "metadata": {},
     "output_type": "execute_result"
    }
   ],
   "source": [
    "mrl_model = MRL_Autoencoder(nesting_list=[9, 18, 36], num_classes=10).to(device)\n",
    "mrl_model.load_state_dict(torch.load(\"output/mrl_autoencoder_weights.pth\"))\n",
    "mrl_model.eval()\n",
    "mrl_model.to(device)"
   ]
  },
  {
   "cell_type": "code",
   "execution_count": 8,
   "id": "b1e83f9d",
   "metadata": {},
   "outputs": [
    {
     "data": {
      "image/png": "[encoded data removed]",
      "text/plain": [
       "<Figure size 1200x300 with 16 Axes>"
      ]
     },
     "metadata": {},
     "output_type": "display_data"
    }
   ],
   "source": [
    "test_dataset = datasets.MNIST(root=\"./data\", train=False, transform=transforms.ToTensor())\n",
    "test_loader = torch.utils.data.DataLoader(test_dataset, batch_size=8, shuffle=True)\n",
    "\n",
    "images, _ = next(iter(test_loader))\n",
    "images = images.view(-1, 28 * 28).to(device)\n",
    "\n",
    "with torch.no_grad():\n",
    "    recon, _ = mrl_model(images)\n",
    "\n",
    "images = images.view(-1, 28, 28).cpu()\n",
    "recon = recon.view(-1, 28, 28).cpu()\n",
    "\n",
    "fig, axes = plt.subplots(2, 8, figsize=(12, 3))\n",
    "for i in range(8):\n",
    "    axes[0, i].imshow(images[i], cmap=\"gray\")\n",
    "    axes[0, i].axis(\"off\")\n",
    "    axes[1, i].imshow(recon[i], cmap=\"gray\")\n",
    "    axes[1, i].axis(\"off\")\n",
    "axes[0, 0].set_title(\"Original\")\n",
    "axes[1, 0].set_title(\"Reconstructed\")\n",
    "plt.tight_layout()\n",
    "plt.savefig(\"output/reconstruction_output_mrl.png\")"
   ]
  },
  {
   "cell_type": "code",
   "execution_count": null,
   "id": "dee92cb9",
   "metadata": {},
   "outputs": [],
   "source": []
  }
 ],
 "metadata": {
  "kernelspec": {
   "display_name": ".venv",
   "language": "python",
   "name": "python3"
  },
  "language_info": {
   "codemirror_mode": {
    "name": "ipython",
    "version": 3
   },
   "file_extension": ".py",
   "mimetype": "text/x-python",
   "name": "python",
   "nbconvert_exporter": "python",
   "pygments_lexer": "ipython3",
   "version": "3.13.3"
  }
 },
 "nbformat": 4,
 "nbformat_minor": 5
}
